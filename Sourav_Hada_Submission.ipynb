{
  "cells": [
    {
      "cell_type": "markdown",
      "metadata": {
        "id": "EvDwGeerwpl0"
      },
      "source": [
        "# Problem Statement"
      ]
    },
    {
      "cell_type": "markdown",
      "metadata": {
        "id": "iWmlLn9Awpl2"
      },
      "source": [
        "This case requires trainees to develop a model for predicting fraudulent transactions for a\n",
        "financial company and use insights from the model to develop an actionable plan. Data for the\n",
        "case is available in CSV format having 6362620 rows and 10 columns."
      ]
    },
    {
      "cell_type": "markdown",
      "metadata": {
        "id": "-aeM5FnNwpl3"
      },
      "source": [
        "# Data Key"
      ]
    },
    {
      "cell_type": "markdown",
      "metadata": {
        "id": "_6F_0bMgwpl3"
      },
      "source": [
        "step - maps a unit of time in the real world. In this case 1 step is 1 hour of time. Total steps 744 (30 days simulation).\n",
        "\n",
        "type - CASH-IN, CASH-OUT, DEBIT, PAYMENT and TRANSFER.\n",
        "\n",
        "amount - amount of the transaction in local currency.\n",
        "\n",
        "nameOrig - customer who started the transaction\n",
        "\n",
        "oldbalanceOrg - initial balance before the transaction\n",
        "\n",
        "newbalanceOrig - new balance after the transaction\n",
        "\n",
        "nameDest - customer who is the recipient of the transaction\n",
        "\n",
        "oldbalanceDest - initial balance recipient before the transaction. Note that there is not information for customers that start with M (Merchants).\n",
        "\n",
        "newbalanceDest - new balance recipient after the transaction. Note that there is not information for customers that start with M (Merchants).\n",
        "\n",
        "isFraud - This is the transactions made by the fraudulent agents inside the simulation. In this specific dataset the fraudulent behavior of the agents aims to profit by taking control or customers accounts and try to empty the funds by transferring to another account and then cashing out of the system.\n",
        "\n",
        "isFlaggedFraud - The business model aims to control massive transfers from one account to another and flags illegal attempts. An illegal attempt in this dataset is an attempt to transfer more than 200.000 in a single transaction."
      ]
    },
    {
      "cell_type": "markdown",
      "metadata": {
        "id": "bW2bnxSzwpl3"
      },
      "source": [
        "# Loading Data"
      ]
    },
    {
      "cell_type": "code",
      "execution_count": 1,
      "metadata": {
        "colab": {
          "base_uri": "https://localhost:8080/"
        },
        "id": "V9Q-2MC6zQ96",
        "outputId": "50474b5e-453c-4bb6-f632-261fe1e08b05"
      },
      "outputs": [
        {
          "output_type": "stream",
          "name": "stdout",
          "text": [
            "Mounted at /content/drive\n"
          ]
        }
      ],
      "source": [
        "from google.colab import drive\n",
        "drive.mount('/content/drive')"
      ]
    },
    {
      "cell_type": "markdown",
      "metadata": {
        "id": "0gijEvbawpl5"
      },
      "source": [
        "This Step can be Skipped if you are not using Google Colab Environment"
      ]
    },
    {
      "cell_type": "markdown",
      "metadata": {
        "id": "IwWCydZXiT-e"
      },
      "source": [
        "#### Importing the Necessary Libraries"
      ]
    },
    {
      "cell_type": "code",
      "execution_count": 2,
      "metadata": {
        "id": "crmIItrcJjdE"
      },
      "outputs": [],
      "source": [
        "import pandas as pd\n",
        "import numpy as np\n",
        "import seaborn as sns\n",
        "import matplotlib.pyplot as plt\n",
        "from google.colab import drive\n",
        "from sklearn.preprocessing import MinMaxScaler\n",
        "from sklearn.model_selection import train_test_split\n",
        "from sklearn.linear_model import LogisticRegression\n",
        "from sklearn.metrics import accuracy_score, classification_report, confusion_matrix, roc_auc_score\n",
        "from sklearn.ensemble import RandomForestClassifier\n",
        "import joblib\n"
      ]
    },
    {
      "cell_type": "markdown",
      "metadata": {
        "id": "31cL-bpOibND"
      },
      "source": [
        "#### Importing the csv file"
      ]
    },
    {
      "cell_type": "code",
      "execution_count": 3,
      "metadata": {
        "id": "0Cat0OQGOzzD"
      },
      "outputs": [],
      "source": [
        "file_path = '/content/drive/MyDrive/Fraud Detection/Fraud.csv'\n",
        "df = pd.read_csv(file_path)\n"
      ]
    },
    {
      "cell_type": "markdown",
      "metadata": {
        "id": "zTAksQxVirrU"
      },
      "source": [
        "#### Taking an overview of the Dataset"
      ]
    },
    {
      "cell_type": "code",
      "execution_count": 4,
      "metadata": {
        "colab": {
          "base_uri": "https://localhost:8080/",
          "height": 206
        },
        "id": "UooB9rWHBuC9",
        "outputId": "86f2f9ab-9288-48b9-8f14-2b7bbf845c30"
      },
      "outputs": [
        {
          "output_type": "execute_result",
          "data": {
            "text/plain": [
              "   step      type    amount     nameOrig  oldbalanceOrg  newbalanceOrig  \\\n",
              "0     1   PAYMENT   9839.64  C1231006815       170136.0       160296.36   \n",
              "1     1   PAYMENT   1864.28  C1666544295        21249.0        19384.72   \n",
              "2     1  TRANSFER    181.00  C1305486145          181.0            0.00   \n",
              "3     1  CASH_OUT    181.00   C840083671          181.0            0.00   \n",
              "4     1   PAYMENT  11668.14  C2048537720        41554.0        29885.86   \n",
              "\n",
              "      nameDest  oldbalanceDest  newbalanceDest  isFraud  isFlaggedFraud  \n",
              "0  M1979787155             0.0             0.0        0               0  \n",
              "1  M2044282225             0.0             0.0        0               0  \n",
              "2   C553264065             0.0             0.0        1               0  \n",
              "3    C38997010         21182.0             0.0        1               0  \n",
              "4  M1230701703             0.0             0.0        0               0  "
            ],
            "text/html": [
              "\n",
              "\n",
              "  <div id=\"df-7c8ea3f3-564a-44a5-8c4d-d81a948ce7f3\">\n",
              "    <div class=\"colab-df-container\">\n",
              "      <div>\n",
              "<style scoped>\n",
              "    .dataframe tbody tr th:only-of-type {\n",
              "        vertical-align: middle;\n",
              "    }\n",
              "\n",
              "    .dataframe tbody tr th {\n",
              "        vertical-align: top;\n",
              "    }\n",
              "\n",
              "    .dataframe thead th {\n",
              "        text-align: right;\n",
              "    }\n",
              "</style>\n",
              "<table border=\"1\" class=\"dataframe\">\n",
              "  <thead>\n",
              "    <tr style=\"text-align: right;\">\n",
              "      <th></th>\n",
              "      <th>step</th>\n",
              "      <th>type</th>\n",
              "      <th>amount</th>\n",
              "      <th>nameOrig</th>\n",
              "      <th>oldbalanceOrg</th>\n",
              "      <th>newbalanceOrig</th>\n",
              "      <th>nameDest</th>\n",
              "      <th>oldbalanceDest</th>\n",
              "      <th>newbalanceDest</th>\n",
              "      <th>isFraud</th>\n",
              "      <th>isFlaggedFraud</th>\n",
              "    </tr>\n",
              "  </thead>\n",
              "  <tbody>\n",
              "    <tr>\n",
              "      <th>0</th>\n",
              "      <td>1</td>\n",
              "      <td>PAYMENT</td>\n",
              "      <td>9839.64</td>\n",
              "      <td>C1231006815</td>\n",
              "      <td>170136.0</td>\n",
              "      <td>160296.36</td>\n",
              "      <td>M1979787155</td>\n",
              "      <td>0.0</td>\n",
              "      <td>0.0</td>\n",
              "      <td>0</td>\n",
              "      <td>0</td>\n",
              "    </tr>\n",
              "    <tr>\n",
              "      <th>1</th>\n",
              "      <td>1</td>\n",
              "      <td>PAYMENT</td>\n",
              "      <td>1864.28</td>\n",
              "      <td>C1666544295</td>\n",
              "      <td>21249.0</td>\n",
              "      <td>19384.72</td>\n",
              "      <td>M2044282225</td>\n",
              "      <td>0.0</td>\n",
              "      <td>0.0</td>\n",
              "      <td>0</td>\n",
              "      <td>0</td>\n",
              "    </tr>\n",
              "    <tr>\n",
              "      <th>2</th>\n",
              "      <td>1</td>\n",
              "      <td>TRANSFER</td>\n",
              "      <td>181.00</td>\n",
              "      <td>C1305486145</td>\n",
              "      <td>181.0</td>\n",
              "      <td>0.00</td>\n",
              "      <td>C553264065</td>\n",
              "      <td>0.0</td>\n",
              "      <td>0.0</td>\n",
              "      <td>1</td>\n",
              "      <td>0</td>\n",
              "    </tr>\n",
              "    <tr>\n",
              "      <th>3</th>\n",
              "      <td>1</td>\n",
              "      <td>CASH_OUT</td>\n",
              "      <td>181.00</td>\n",
              "      <td>C840083671</td>\n",
              "      <td>181.0</td>\n",
              "      <td>0.00</td>\n",
              "      <td>C38997010</td>\n",
              "      <td>21182.0</td>\n",
              "      <td>0.0</td>\n",
              "      <td>1</td>\n",
              "      <td>0</td>\n",
              "    </tr>\n",
              "    <tr>\n",
              "      <th>4</th>\n",
              "      <td>1</td>\n",
              "      <td>PAYMENT</td>\n",
              "      <td>11668.14</td>\n",
              "      <td>C2048537720</td>\n",
              "      <td>41554.0</td>\n",
              "      <td>29885.86</td>\n",
              "      <td>M1230701703</td>\n",
              "      <td>0.0</td>\n",
              "      <td>0.0</td>\n",
              "      <td>0</td>\n",
              "      <td>0</td>\n",
              "    </tr>\n",
              "  </tbody>\n",
              "</table>\n",
              "</div>\n",
              "      <button class=\"colab-df-convert\" onclick=\"convertToInteractive('df-7c8ea3f3-564a-44a5-8c4d-d81a948ce7f3')\"\n",
              "              title=\"Convert this dataframe to an interactive table.\"\n",
              "              style=\"display:none;\">\n",
              "\n",
              "  <svg xmlns=\"http://www.w3.org/2000/svg\" height=\"24px\"viewBox=\"0 0 24 24\"\n",
              "       width=\"24px\">\n",
              "    <path d=\"M0 0h24v24H0V0z\" fill=\"none\"/>\n",
              "    <path d=\"M18.56 5.44l.94 2.06.94-2.06 2.06-.94-2.06-.94-.94-2.06-.94 2.06-2.06.94zm-11 1L8.5 8.5l.94-2.06 2.06-.94-2.06-.94L8.5 2.5l-.94 2.06-2.06.94zm10 10l.94 2.06.94-2.06 2.06-.94-2.06-.94-.94-2.06-.94 2.06-2.06.94z\"/><path d=\"M17.41 7.96l-1.37-1.37c-.4-.4-.92-.59-1.43-.59-.52 0-1.04.2-1.43.59L10.3 9.45l-7.72 7.72c-.78.78-.78 2.05 0 2.83L4 21.41c.39.39.9.59 1.41.59.51 0 1.02-.2 1.41-.59l7.78-7.78 2.81-2.81c.8-.78.8-2.07 0-2.86zM5.41 20L4 18.59l7.72-7.72 1.47 1.35L5.41 20z\"/>\n",
              "  </svg>\n",
              "      </button>\n",
              "\n",
              "\n",
              "\n",
              "    <div id=\"df-44858485-8a85-47c0-b5c5-70f1d54903c6\">\n",
              "      <button class=\"colab-df-quickchart\" onclick=\"quickchart('df-44858485-8a85-47c0-b5c5-70f1d54903c6')\"\n",
              "              title=\"Suggest charts.\"\n",
              "              style=\"display:none;\">\n",
              "\n",
              "<svg xmlns=\"http://www.w3.org/2000/svg\" height=\"24px\"viewBox=\"0 0 24 24\"\n",
              "     width=\"24px\">\n",
              "    <g>\n",
              "        <path d=\"M19 3H5c-1.1 0-2 .9-2 2v14c0 1.1.9 2 2 2h14c1.1 0 2-.9 2-2V5c0-1.1-.9-2-2-2zM9 17H7v-7h2v7zm4 0h-2V7h2v10zm4 0h-2v-4h2v4z\"/>\n",
              "    </g>\n",
              "</svg>\n",
              "      </button>\n",
              "    </div>\n",
              "\n",
              "<style>\n",
              "  .colab-df-quickchart {\n",
              "    background-color: #E8F0FE;\n",
              "    border: none;\n",
              "    border-radius: 50%;\n",
              "    cursor: pointer;\n",
              "    display: none;\n",
              "    fill: #1967D2;\n",
              "    height: 32px;\n",
              "    padding: 0 0 0 0;\n",
              "    width: 32px;\n",
              "  }\n",
              "\n",
              "  .colab-df-quickchart:hover {\n",
              "    background-color: #E2EBFA;\n",
              "    box-shadow: 0px 1px 2px rgba(60, 64, 67, 0.3), 0px 1px 3px 1px rgba(60, 64, 67, 0.15);\n",
              "    fill: #174EA6;\n",
              "  }\n",
              "\n",
              "  [theme=dark] .colab-df-quickchart {\n",
              "    background-color: #3B4455;\n",
              "    fill: #D2E3FC;\n",
              "  }\n",
              "\n",
              "  [theme=dark] .colab-df-quickchart:hover {\n",
              "    background-color: #434B5C;\n",
              "    box-shadow: 0px 1px 3px 1px rgba(0, 0, 0, 0.15);\n",
              "    filter: drop-shadow(0px 1px 2px rgba(0, 0, 0, 0.3));\n",
              "    fill: #FFFFFF;\n",
              "  }\n",
              "</style>\n",
              "\n",
              "    <script>\n",
              "      async function quickchart(key) {\n",
              "        const containerElement = document.querySelector('#' + key);\n",
              "        const charts = await google.colab.kernel.invokeFunction(\n",
              "            'suggestCharts', [key], {});\n",
              "      }\n",
              "    </script>\n",
              "\n",
              "      <script>\n",
              "\n",
              "function displayQuickchartButton(domScope) {\n",
              "  let quickchartButtonEl =\n",
              "    domScope.querySelector('#df-44858485-8a85-47c0-b5c5-70f1d54903c6 button.colab-df-quickchart');\n",
              "  quickchartButtonEl.style.display =\n",
              "    google.colab.kernel.accessAllowed ? 'block' : 'none';\n",
              "}\n",
              "\n",
              "        displayQuickchartButton(document);\n",
              "      </script>\n",
              "      <style>\n",
              "    .colab-df-container {\n",
              "      display:flex;\n",
              "      flex-wrap:wrap;\n",
              "      gap: 12px;\n",
              "    }\n",
              "\n",
              "    .colab-df-convert {\n",
              "      background-color: #E8F0FE;\n",
              "      border: none;\n",
              "      border-radius: 50%;\n",
              "      cursor: pointer;\n",
              "      display: none;\n",
              "      fill: #1967D2;\n",
              "      height: 32px;\n",
              "      padding: 0 0 0 0;\n",
              "      width: 32px;\n",
              "    }\n",
              "\n",
              "    .colab-df-convert:hover {\n",
              "      background-color: #E2EBFA;\n",
              "      box-shadow: 0px 1px 2px rgba(60, 64, 67, 0.3), 0px 1px 3px 1px rgba(60, 64, 67, 0.15);\n",
              "      fill: #174EA6;\n",
              "    }\n",
              "\n",
              "    [theme=dark] .colab-df-convert {\n",
              "      background-color: #3B4455;\n",
              "      fill: #D2E3FC;\n",
              "    }\n",
              "\n",
              "    [theme=dark] .colab-df-convert:hover {\n",
              "      background-color: #434B5C;\n",
              "      box-shadow: 0px 1px 3px 1px rgba(0, 0, 0, 0.15);\n",
              "      filter: drop-shadow(0px 1px 2px rgba(0, 0, 0, 0.3));\n",
              "      fill: #FFFFFF;\n",
              "    }\n",
              "  </style>\n",
              "\n",
              "      <script>\n",
              "        const buttonEl =\n",
              "          document.querySelector('#df-7c8ea3f3-564a-44a5-8c4d-d81a948ce7f3 button.colab-df-convert');\n",
              "        buttonEl.style.display =\n",
              "          google.colab.kernel.accessAllowed ? 'block' : 'none';\n",
              "\n",
              "        async function convertToInteractive(key) {\n",
              "          const element = document.querySelector('#df-7c8ea3f3-564a-44a5-8c4d-d81a948ce7f3');\n",
              "          const dataTable =\n",
              "            await google.colab.kernel.invokeFunction('convertToInteractive',\n",
              "                                                     [key], {});\n",
              "          if (!dataTable) return;\n",
              "\n",
              "          const docLinkHtml = 'Like what you see? Visit the ' +\n",
              "            '<a target=\"_blank\" href=https://colab.research.google.com/notebooks/data_table.ipynb>data table notebook</a>'\n",
              "            + ' to learn more about interactive tables.';\n",
              "          element.innerHTML = '';\n",
              "          dataTable['output_type'] = 'display_data';\n",
              "          await google.colab.output.renderOutput(dataTable, element);\n",
              "          const docLink = document.createElement('div');\n",
              "          docLink.innerHTML = docLinkHtml;\n",
              "          element.appendChild(docLink);\n",
              "        }\n",
              "      </script>\n",
              "    </div>\n",
              "  </div>\n"
            ]
          },
          "metadata": {},
          "execution_count": 4
        }
      ],
      "source": [
        "df.head()"
      ]
    },
    {
      "cell_type": "code",
      "execution_count": 5,
      "metadata": {
        "colab": {
          "base_uri": "https://localhost:8080/"
        },
        "id": "20hEtSz1B1sO",
        "outputId": "047869d6-291c-4d3b-d0a8-49d82aaa9e6c"
      },
      "outputs": [
        {
          "output_type": "execute_result",
          "data": {
            "text/plain": [
              "(6362620, 11)"
            ]
          },
          "metadata": {},
          "execution_count": 5
        }
      ],
      "source": [
        "df.shape"
      ]
    },
    {
      "cell_type": "code",
      "execution_count": 6,
      "metadata": {
        "colab": {
          "base_uri": "https://localhost:8080/"
        },
        "id": "aOWUPc81B3wK",
        "outputId": "4d1f6339-b056-4a16-fa70-d006c287ba52"
      },
      "outputs": [
        {
          "output_type": "execute_result",
          "data": {
            "text/plain": [
              "step                int64\n",
              "type               object\n",
              "amount            float64\n",
              "nameOrig           object\n",
              "oldbalanceOrg     float64\n",
              "newbalanceOrig    float64\n",
              "nameDest           object\n",
              "oldbalanceDest    float64\n",
              "newbalanceDest    float64\n",
              "isFraud             int64\n",
              "isFlaggedFraud      int64\n",
              "dtype: object"
            ]
          },
          "metadata": {},
          "execution_count": 6
        }
      ],
      "source": [
        "df.dtypes"
      ]
    },
    {
      "cell_type": "markdown",
      "metadata": {
        "id": "22hgsKGnwpl7"
      },
      "source": [
        "# Data Pre-Processing and Feature Extraction"
      ]
    },
    {
      "cell_type": "code",
      "execution_count": 7,
      "metadata": {
        "colab": {
          "base_uri": "https://localhost:8080/"
        },
        "id": "UjEHEO0BBp_A",
        "outputId": "7e2c0497-d944-4807-88d2-faad7ae5da57"
      },
      "outputs": [
        {
          "output_type": "stream",
          "name": "stdout",
          "text": [
            "Missing values:\n",
            "step              0\n",
            "type              0\n",
            "amount            0\n",
            "nameOrig          0\n",
            "oldbalanceOrg     0\n",
            "newbalanceOrig    0\n",
            "nameDest          0\n",
            "oldbalanceDest    0\n",
            "newbalanceDest    0\n",
            "isFraud           0\n",
            "isFlaggedFraud    0\n",
            "dtype: int64\n"
          ]
        }
      ],
      "source": [
        "# Check for missing values in each column\n",
        "missing_values = df.isnull().sum()\n",
        "\n",
        "# Print the count of missing values in each column\n",
        "print('Missing values:')\n",
        "print(missing_values)\n"
      ]
    },
    {
      "cell_type": "markdown",
      "metadata": {
        "id": "8S_-fsUZkCOK"
      },
      "source": [
        "This means that there are no missing values in the dataset that needs be taken care of."
      ]
    },
    {
      "cell_type": "markdown",
      "metadata": {
        "id": "HMUwu_tywpl7"
      },
      "source": [
        "  "
      ]
    },
    {
      "cell_type": "markdown",
      "metadata": {
        "id": "hUUByCaqjSKE"
      },
      "source": [
        "I will create a feature \"type1\" which is a categorical variable with levels \"CC\" (Customer to Customer), \"CM\" (Customer to Merchant), \"MC\" (Merchant to Customer), \"MM\" (Merchant to Merchant).\n",
        "In the next few code cells, I seek to compare valid transactions against fraud transactions instead of overall trends.\n",
        "This is because I want to see patterns that differentiate fraud transactions from valid ones."
      ]
    },
    {
      "cell_type": "code",
      "execution_count": 8,
      "metadata": {
        "id": "hm_jRMMECJYz"
      },
      "outputs": [],
      "source": [
        "df['type1'] = np.nan  # Initializing the feature column\n",
        "\n",
        "# Filling the feature column based on nameOrig and nameDest values\n",
        "df.loc[df['nameOrig'].str.contains('C') & df['nameDest'].str.contains('C'), 'type1'] = 'CC'\n",
        "df.loc[df['nameOrig'].str.contains('C') & df['nameDest'].str.contains('M'), 'type1'] = 'CM'\n",
        "df.loc[df['nameOrig'].str.contains('M') & df['nameDest'].str.contains('C'), 'type1'] = 'MC'\n",
        "df.loc[df['nameOrig'].str.contains('M') & df['nameDest'].str.contains('M'), 'type1'] = 'MM'\n"
      ]
    },
    {
      "cell_type": "code",
      "execution_count": 9,
      "metadata": {
        "id": "B698IDfuB7iJ"
      },
      "outputs": [],
      "source": [
        "# Subsetting data into observations with fraud and valid transactions\n",
        "fraud = df[df['isFraud'] == 1]\n",
        "valid = df[df['isFraud'] == 0]\n"
      ]
    },
    {
      "cell_type": "code",
      "execution_count": 10,
      "metadata": {
        "colab": {
          "base_uri": "https://localhost:8080/",
          "height": 482
        },
        "id": "nStaTDgECP6w",
        "outputId": "cd05e586-6282-4451-cc86-17c1c29adb4f"
      },
      "outputs": [
        {
          "output_type": "display_data",
          "data": {
            "text/plain": [
              "<Figure size 1200x600 with 2 Axes>"
            ],
            "image/png": "[encoded data removed]"
          },
          "metadata": {}
        }
      ],
      "source": [
        "# Counting transactions by 'type1' for fraud transactions\n",
        "fraud_type_counts = fraud['type1'].value_counts()\n",
        "\n",
        "# Counting transactions by 'type1' for valid transactions\n",
        "valid_type_counts = valid['type1'].value_counts()\n",
        "\n",
        "# Plotting the counts of fraud and valid transactions by 'type1' using pie charts\n",
        "fig, axes = plt.subplots(1, 2, figsize=(12, 6))\n",
        "\n",
        "# Pie chart for valid transactions\n",
        "axes[0].pie(valid_type_counts, labels=valid_type_counts.index, autopct=lambda pct: f\"{pct:.1f}%\\n({int(pct/100*sum(valid_type_counts))})\")\n",
        "axes[0].set_title('Valid Transactions by type1')\n",
        "\n",
        "# Pie chart for fraud transactions\n",
        "axes[1].pie(fraud_type_counts, labels=fraud_type_counts.index, autopct=lambda pct: f\"{pct:.1f}%\\n({int(pct/100*sum(fraud_type_counts))})\")\n",
        "axes[1].set_title('Fraud Transactions by type1')\n",
        "\n",
        "plt.show()\n"
      ]
    },
    {
      "cell_type": "markdown",
      "metadata": {
        "id": "Nrqk4H9XkKnO"
      },
      "source": [
        "From the dataset, it seems that fraud transactions only occur when the transaction type1 is CC (Customer to Customer)\n",
        "This also means that the datasets fraud and valid don't need to be subsetted. However, since all relevant observations have type1 = \"CC\", the type1 column is no longer necessary and hence will be dropped from the dataset before training the model"
      ]
    },
    {
      "cell_type": "markdown",
      "metadata": {
        "id": "bBJgz9W-wpl-"
      },
      "source": [
        "  "
      ]
    },
    {
      "cell_type": "code",
      "execution_count": 11,
      "metadata": {
        "colab": {
          "base_uri": "https://localhost:8080/",
          "height": 482
        },
        "id": "LT8MvVGhEte7",
        "outputId": "f6828d38-c11f-41f8-ddb7-58c50dff544a"
      },
      "outputs": [
        {
          "output_type": "display_data",
          "data": {
            "text/plain": [
              "<Figure size 1200x600 with 2 Axes>"
            ],
            "image/png": "[encoded data removed]"
          },
          "metadata": {}
        }
      ],
      "source": [
        "import matplotlib.pyplot as plt\n",
        "\n",
        "# Counting transactions by 'type' for fraud transactions\n",
        "fraud_type_counts = fraud['type'].value_counts()\n",
        "\n",
        "# Counting transactions by 'type' for valid transactions\n",
        "valid_type_counts = valid['type'].value_counts()\n",
        "\n",
        "# Plotting the counts of fraud and valid transactions by 'type' using pie charts\n",
        "fig, axes = plt.subplots(1, 2, figsize=(12, 6))\n",
        "\n",
        "# Pie chart for valid transactions\n",
        "axes[0].pie(valid_type_counts, labels=valid_type_counts.index, autopct=lambda pct: f\"{pct:.1f}%\\n({int(pct/100*sum(valid_type_counts))})\")\n",
        "axes[0].set_title('Valid Transactions by Type')\n",
        "\n",
        "# Pie chart for fraud transactions\n",
        "axes[1].pie(fraud_type_counts, labels=fraud_type_counts.index, autopct=lambda pct: f\"{pct:.1f}%\\n({int(pct/100*sum(fraud_type_counts))})\")\n",
        "axes[1].set_title('Fraud Transactions by Type')\n",
        "\n",
        "plt.show()\n"
      ]
    },
    {
      "cell_type": "markdown",
      "metadata": {
        "id": "IAM8C-U8lJHO"
      },
      "source": [
        "This concludes that Fraud transactions are only happening in Transfer and Cash_out transactions"
      ]
    },
    {
      "cell_type": "code",
      "execution_count": 12,
      "metadata": {
        "colab": {
          "base_uri": "https://localhost:8080/"
        },
        "id": "XHZogfMHF8PB",
        "outputId": "869d5cbf-809a-49c0-d0e6-2329eeeb7f6a"
      },
      "outputs": [
        {
          "output_type": "stream",
          "name": "stdout",
          "text": [
            "Number of transactions that should have been flagged: 1673570\n",
            "Number of transactions that should have been flagged and were actually flagged: 5471\n",
            "Percentage of transactions flagged succesfully 0.3269059555321857\n"
          ]
        }
      ],
      "source": [
        "# Counting the transactions that should have been flagged\n",
        "flagged_transactions = df[(df['amount'] > 200000)]\n",
        "\n",
        "# Counting the number of flagged transactions that should have been flagged\n",
        "num_correctly_flagged = flagged_transactions['isFraud'].sum()\n",
        "\n",
        "#counting the percentage of transactions that were flagged succesfully\n",
        "percentage_flagged = (num_correctly_flagged / len(df[df['amount'] > 200000])) * 100\n",
        "\n",
        "# Printing the number of transactions that should have been flagged and were actually flagged\n",
        "print(\"Number of transactions that should have been flagged:\", len(flagged_transactions))\n",
        "print(\"Number of transactions that should have been flagged and were actually flagged:\", num_correctly_flagged)\n",
        "print(\"Percentage of transactions flagged succesfully\", percentage_flagged )"
      ]
    },
    {
      "cell_type": "markdown",
      "metadata": {
        "id": "LqtXm7XrlsIR"
      },
      "source": [
        "The number of transactions that should have been flagged far exceeds the number of observations that were actually flagged.\n",
        "In addition, I am trying to develop a new fraud detection screen that does not depend on a pre-existing fraud detection scheme.\n",
        "For that reason, I am omitting the isFlaggedFraud column from the analysis."
      ]
    },
    {
      "cell_type": "markdown",
      "metadata": {
        "id": "ZC8H0b1gwpl-"
      },
      "source": [
        "\n",
        "\n"
      ]
    },
    {
      "cell_type": "code",
      "execution_count": 13,
      "metadata": {
        "colab": {
          "base_uri": "https://localhost:8080/"
        },
        "id": "rneWfU3bGbY4",
        "outputId": "4d35ec47-b512-4ee4-f054-5a2ae4a4586c"
      },
      "outputs": [
        {
          "output_type": "stream",
          "name": "stdout",
          "text": [
            "Number of cases where amount == oldbalanceOrg and are fraud: 8034\n",
            "Total number of cases where amount == oldbalanceOrg: 8034\n"
          ]
        }
      ],
      "source": [
        "# Count the number of cases where amount == oldbalanceOrg and isFraud == 1\n",
        "cases_count = df[(df['amount'] == df['oldbalanceOrg']) & (df['isFraud'] == 1)].shape[0]\n",
        "\n",
        "# Count the total number of cases where amount == oldbalanceOrg\n",
        "total_cases = df[df['amount'] == df['oldbalanceOrg']].shape[0]\n",
        "\n",
        "# Print the result\n",
        "print(\"Number of cases where amount == oldbalanceOrg and are fraud:\", cases_count)\n",
        "print(\"Total number of cases where amount == oldbalanceOrg:\", total_cases)\n"
      ]
    },
    {
      "cell_type": "markdown",
      "metadata": {
        "id": "FE-i6e95lyqq"
      },
      "source": [
        "This shows that in every transaction where oldbalanceOrig is equal to amount the transaction is a fraud one. This is happening because all the transactions which are detected as fraud are cancelled, so for fraud detection those 2 columns must not be used.\n",
        "\n",
        "\n"
      ]
    },
    {
      "cell_type": "markdown",
      "metadata": {
        "id": "VUyzmom0wpl_"
      },
      "source": [
        "  "
      ]
    },
    {
      "cell_type": "markdown",
      "metadata": {
        "id": "YbrC_Raqwpl_"
      },
      "source": [
        "  "
      ]
    },
    {
      "cell_type": "code",
      "execution_count": 14,
      "metadata": {
        "colab": {
          "base_uri": "https://localhost:8080/"
        },
        "id": "0HOSLmL3GgfV",
        "outputId": "fde450a2-73f4-4e97-8a5f-c8333c98eead"
      },
      "outputs": [
        {
          "output_type": "execute_result",
          "data": {
            "text/plain": [
              "False"
            ]
          },
          "metadata": {},
          "execution_count": 14
        }
      ],
      "source": [
        "# separating transfers and cashouts for fraud accounts\n",
        "\n",
        "fraud_transfer = fraud[fraud[\"type\"] == \"TRANSFER\"]\n",
        "fraud_cashout = fraud[fraud[\"type\"] == \"CASH_OUT\"]\n",
        "\n",
        "# checking if the recipient account of a fraudulent transfer was used as a sending account for cashing out\n",
        "fraud_transfer.nameDest.isin(fraud_cashout.nameOrig).any()"
      ]
    },
    {
      "cell_type": "markdown",
      "metadata": {
        "id": "ximZbc9FnNdf"
      },
      "source": [
        "Thus in this dataset, for fraudulent transactions, the account that received funds during a transfer was not used at all for cashing out.\n",
        "\n",
        "If that is the case, there seems to be no use for nameOrig or nameDest since there seems to be no restrictions on which accounts cashout from fraudulent transactions.\n",
        "Thus, I am omitting the nameOrig and nameDest columns from analysis."
      ]
    },
    {
      "cell_type": "code",
      "execution_count": 15,
      "metadata": {
        "id": "ViLUk7IwJho0"
      },
      "outputs": [],
      "source": [
        "# Create dummy variables for the 'type' column\n",
        "df = pd.get_dummies(df, columns=['type'], prefix='type')\n"
      ]
    },
    {
      "cell_type": "code",
      "execution_count": 16,
      "metadata": {
        "id": "q6fUKZxDL9t0"
      },
      "outputs": [],
      "source": [
        "# dropping the columns for the dataset that will not be used to train the model\n",
        "df = df.drop(['isFlaggedFraud', 'nameOrig', 'nameDest', 'amount', 'oldbalanceOrg','type1'], axis=1)"
      ]
    },
    {
      "cell_type": "code",
      "execution_count": 17,
      "metadata": {
        "colab": {
          "base_uri": "https://localhost:8080/"
        },
        "id": "fFYCOREZMJRO",
        "outputId": "03f1eb3d-b6f9-498a-86b0-12909640131b"
      },
      "outputs": [
        {
          "output_type": "stream",
          "name": "stdout",
          "text": [
            "Class Counts:\n",
            "0: 6354407\n",
            "1: 8213\n",
            "\n",
            "Class Percentages:\n",
            "0: 99.87%\n",
            "1: 0.13%\n"
          ]
        }
      ],
      "source": [
        "# Count the number of transactions for each class\n",
        "class_counts = df['isFraud'].value_counts()\n",
        "\n",
        "# Calculate the percentage of each class\n",
        "class_percentages = class_counts / len(df) * 100\n",
        "\n",
        "# Print the class counts and percentages\n",
        "print(\"Class Counts:\")\n",
        "for class_label, count in class_counts.items():\n",
        "    print(f\"{class_label}: {count}\")\n",
        "\n",
        "print(\"\\nClass Percentages:\")\n",
        "for class_label, percentage in class_percentages.items():\n",
        "    print(f\"{class_label}: {percentage:.2f}%\")\n"
      ]
    },
    {
      "cell_type": "code",
      "execution_count": 18,
      "metadata": {
        "colab": {
          "base_uri": "https://localhost:8080/"
        },
        "id": "3N9Fm7dQOX_F",
        "outputId": "59d58a62-9793-4283-fca2-cfd5edf6db3b"
      },
      "outputs": [
        {
          "output_type": "stream",
          "name": "stdout",
          "text": [
            "Train set shape: (5090096, 9) (5090096,)\n",
            "Test set shape: (1272524, 9) (1272524,)\n"
          ]
        }
      ],
      "source": [
        "# Set the random state and seed values\n",
        "random_state = 42\n",
        "np.random.seed(21)\n",
        "\n",
        "# Splitting the dataset into train and test sets\n",
        "X = df.drop('isFraud', axis=1)  # Features (excluding the target variable)\n",
        "y = df['isFraud']  # Target variable\n",
        "\n",
        "X_train, X_test, y_train, y_test = train_test_split(X, y, test_size=0.2, random_state=random_state)\n",
        "\n",
        "# Printing the shapes of the train and test sets\n",
        "print(\"Train set shape:\", X_train.shape, y_train.shape)\n",
        "print(\"Test set shape:\", X_test.shape, y_test.shape)\n"
      ]
    },
    {
      "cell_type": "markdown",
      "metadata": {
        "id": "tbB6eqOPwpmE"
      },
      "source": [
        "### Normalizing the data"
      ]
    },
    {
      "cell_type": "code",
      "execution_count": 19,
      "metadata": {
        "id": "5YCncagiOlPW"
      },
      "outputs": [],
      "source": [
        "# Create the MinMaxScaler object\n",
        "scaler = MinMaxScaler()\n",
        "\n",
        "# Normalize the training data\n",
        "X_train_normalized = scaler.fit_transform(X_train)\n",
        "\n",
        "# Normalize the testing data\n",
        "X_test_normalized = scaler.transform(X_test)"
      ]
    },
    {
      "cell_type": "markdown",
      "metadata": {
        "id": "uMzqta-IwpmE"
      },
      "source": [
        "# Model Training and Evaluation"
      ]
    },
    {
      "cell_type": "markdown",
      "metadata": {
        "id": "5i0GjHp4wpmF"
      },
      "source": [
        "### Logisitic Regression Model"
      ]
    },
    {
      "cell_type": "code",
      "execution_count": 20,
      "metadata": {
        "colab": {
          "base_uri": "https://localhost:8080/"
        },
        "id": "p5bBJ3RnPP2h",
        "outputId": "c2a98812-d964-4c54-b5b9-b04357cadced"
      },
      "outputs": [
        {
          "output_type": "stream",
          "name": "stdout",
          "text": [
            "Accuracy: 0.9987308687301772\n",
            "Classification Report:\n",
            "              precision    recall  f1-score   support\n",
            "\n",
            "           0       1.00      1.00      1.00   1270904\n",
            "           1       1.00      0.00      0.01      1620\n",
            "\n",
            "    accuracy                           1.00   1272524\n",
            "   macro avg       1.00      0.50      0.50   1272524\n",
            "weighted avg       1.00      1.00      1.00   1272524\n",
            "\n"
          ]
        }
      ],
      "source": [
        "# Create the Logistic Regression model\n",
        "model = LogisticRegression()\n",
        "\n",
        "# Train the model\n",
        "model.fit(X_train_normalized, y_train)\n",
        "\n",
        "# Make predictions on the testing data\n",
        "y_pred = model.predict(X_test_normalized)\n",
        "\n",
        "# Calculate the accuracy\n",
        "accuracy = accuracy_score(y_test, y_pred)\n",
        "\n",
        "# Print the accuracy report\n",
        "print(\"Accuracy:\", accuracy)\n",
        "print(\"Classification Report:\")\n",
        "print(classification_report(y_test, y_pred))\n"
      ]
    },
    {
      "cell_type": "code",
      "execution_count": 21,
      "metadata": {
        "colab": {
          "base_uri": "https://localhost:8080/",
          "height": 817
        },
        "id": "hCvlLOEfPzL9",
        "outputId": "f66612f0-b3d8-4894-96c4-c7dd271dea75"
      },
      "outputs": [
        {
          "output_type": "stream",
          "name": "stdout",
          "text": [
            "Confusion Matrix:\n",
            "[[1270904       0]\n",
            " [   1615       5]]\n",
            "Classification Report:\n",
            "              precision    recall  f1-score   support\n",
            "\n",
            "           0       1.00      1.00      1.00   1270904\n",
            "           1       1.00      0.00      0.01      1620\n",
            "\n",
            "    accuracy                           1.00   1272524\n",
            "   macro avg       1.00      0.50      0.50   1272524\n",
            "weighted avg       1.00      1.00      1.00   1272524\n",
            "\n",
            "AUC-ROC Score: 0.5015432098765432\n"
          ]
        },
        {
          "output_type": "display_data",
          "data": {
            "text/plain": [
              "<Figure size 800x600 with 2 Axes>"
            ],
            "image/png": "[encoded data removed]"
          },
          "metadata": {}
        }
      ],
      "source": [
        "# Calculate and print the confusion matrix\n",
        "cm = confusion_matrix(y_test, y_pred)\n",
        "print(\"Confusion Matrix:\")\n",
        "print(cm)\n",
        "\n",
        "# Generate classification report\n",
        "print(\"Classification Report:\")\n",
        "print(classification_report(y_test, y_pred))\n",
        "\n",
        "# Calculate AUC-ROC score\n",
        "auc_roc = roc_auc_score(y_test, y_pred)\n",
        "print(\"AUC-ROC Score:\", auc_roc)\n",
        "\n",
        "# Plot the confusion matrix\n",
        "plt.figure(figsize=(8, 6))\n",
        "sns.heatmap(cm, annot=True, cmap=\"Blues\", fmt=\"d\")\n",
        "plt.title(\"Confusion Matrix\")\n",
        "plt.xlabel(\"Predicted Labels\")\n",
        "plt.ylabel(\"True Labels\")\n",
        "plt.show()\n"
      ]
    },
    {
      "cell_type": "markdown",
      "metadata": {
        "id": "nIxOCoP6wpmF"
      },
      "source": [
        "### Summary of Observations from Logistic Regression\n",
        "\n",
        "Confusion Matrix:\n",
        "[[1270904 0]\n",
        "[ 1615 5]]\n",
        "\n",
        "In the confusion matrix, we have two classes: 0 and 1. Class 0 represents the negative class, while class 1 represents the positive class. The matrix is organized as follows:\n",
        "\n",
        "True negatives (TN): 1,270,904\n",
        "False positives (FP): 0\n",
        "False negatives (FN): 1,615\n",
        "True positives (TP): 5\n",
        "\n",
        "From the provided information, we can see that the model performs extremely well in predicting class 0, as indicated by high precision, recall, and F1-score. However, it performs poorly in predicting class 1, as the recall is very low. This suggests that the model struggles to identify positive instances correctly.\n",
        "\n",
        "An AUC-ROC of 0.5 suggests that the model is unable to distinguish between the positive and negative classes and its predictions are essentially random.\n"
      ]
    },
    {
      "cell_type": "code",
      "execution_count": 22,
      "metadata": {
        "colab": {
          "base_uri": "https://localhost:8080/"
        },
        "id": "NjaqWYdiQMdk",
        "outputId": "e7b4d440-ab2e-41d0-ec68-83e0721f99aa"
      },
      "outputs": [
        {
          "output_type": "stream",
          "name": "stdout",
          "text": [
            "Accuracy: 0.9995182802053242\n"
          ]
        }
      ],
      "source": [
        "# Create the Random Forest classifier\n",
        "rf_classifier = RandomForestClassifier()\n",
        "\n",
        "# Train the model on the normalized training data\n",
        "rf_classifier.fit(X_train_normalized, y_train)\n",
        "\n",
        "# Predict the labels for the normalized testing data\n",
        "y_pred = rf_classifier.predict(X_test_normalized)\n",
        "\n",
        "# Calculate the accuracy of the model\n",
        "accuracy = accuracy_score(y_test, y_pred)\n",
        "print(\"Accuracy:\", accuracy)\n"
      ]
    },
    {
      "cell_type": "code",
      "execution_count": 23,
      "metadata": {
        "colab": {
          "base_uri": "https://localhost:8080/",
          "height": 817
        },
        "id": "4W5TV4TBQZo5",
        "outputId": "e1970d69-8e2c-42ba-d4a3-fa384ff33880"
      },
      "outputs": [
        {
          "output_type": "stream",
          "name": "stdout",
          "text": [
            "Confusion Matrix:\n",
            "[[1270869      35]\n",
            " [    578    1042]]\n",
            "Classification Report:\n",
            "              precision    recall  f1-score   support\n",
            "\n",
            "           0       1.00      1.00      1.00   1270904\n",
            "           1       0.97      0.64      0.77      1620\n",
            "\n",
            "    accuracy                           1.00   1272524\n",
            "   macro avg       0.98      0.82      0.89   1272524\n",
            "weighted avg       1.00      1.00      1.00   1272524\n",
            "\n",
            "AUC-ROC Score: 0.8215911685454886\n"
          ]
        },
        {
          "output_type": "display_data",
          "data": {
            "text/plain": [
              "<Figure size 800x600 with 2 Axes>"
            ],
            "image/png": "[encoded data removed]"
          },
          "metadata": {}
        }
      ],
      "source": [
        "from sklearn.metrics import accuracy_score, confusion_matrix, classification_report, roc_auc_score\n",
        "import matplotlib.pyplot as plt\n",
        "import seaborn as sns\n",
        "\n",
        "# Calculate and print the confusion matrix\n",
        "cm = confusion_matrix(y_test, y_pred)\n",
        "print(\"Confusion Matrix:\")\n",
        "print(cm)\n",
        "\n",
        "# Generate classification report\n",
        "print(\"Classification Report:\")\n",
        "print(classification_report(y_test, y_pred))\n",
        "\n",
        "# Calculate AUC-ROC score\n",
        "auc_roc = roc_auc_score(y_test, y_pred)\n",
        "print(\"AUC-ROC Score:\", auc_roc)\n",
        "\n",
        "# Plot the confusion matrix\n",
        "plt.figure(figsize=(8, 6))\n",
        "sns.heatmap(cm, annot=True, cmap=\"Blues\", fmt=\"d\")\n",
        "plt.title(\"Confusion Matrix\")\n",
        "plt.xlabel(\"Predicted Labels\")\n",
        "plt.ylabel(\"True Labels\")\n",
        "plt.show()\n"
      ]
    },
    {
      "cell_type": "markdown",
      "metadata": {
        "id": "O_uS-Bj6wpmG"
      },
      "source": [
        "### Summary of Accuracy of the Random Forest Model\n",
        "\n",
        "Confusion Matrix:\n",
        "[[1270869 35]\n",
        "[ 578 1042]]\n",
        "\n",
        "In the confusion matrix, we have two classes: 0 and 1. Class 0 represents the negative class, while class 1 represents the positive class. The matrix is organized as follows:\n",
        "\n",
        "True negatives (TN): 1,270,869\n",
        "False positives (FP): 35\n",
        "False negatives (FN): 578\n",
        "True positives (TP): 1,042\n",
        "\n",
        "The F1-score for class 0 remains high, indicating a good balance between precision and recall for the negative class. The F1-score for class 1 also improved, suggesting a better trade-off between precision and recall for the positive class compared to the previous scenario.\n",
        "\n",
        "The AUC-ROC score of 0.8216 suggests that the model's ability to distinguish between the two classes has improved. However, there is still room for improvement, as an ideal AUC-ROC score is 1.0."
      ]
    },
    {
      "cell_type": "code",
      "execution_count": 24,
      "metadata": {
        "colab": {
          "base_uri": "https://localhost:8080/"
        },
        "id": "VUDJvOmTQjL3",
        "outputId": "3ea2b907-e817-4bbf-df6a-0bc2545cf550"
      },
      "outputs": [
        {
          "output_type": "stream",
          "name": "stdout",
          "text": [
            "Feature Importance Rankings:\n",
            "1. newbalanceDest: 0.5486964648300151\n",
            "2. oldbalanceDest: 0.20458362941761238\n",
            "3. step: 0.20020848956110907\n",
            "4. type_TRANSFER: 0.019039177282321122\n",
            "5. type_CASH_IN: 0.011596242363244495\n",
            "6. newbalanceOrig: 0.010156099784700424\n",
            "7. type_PAYMENT: 0.002977139631942822\n",
            "8. type_CASH_OUT: 0.0026537583029237746\n",
            "9. type_DEBIT: 8.8998826130918e-05\n"
          ]
        }
      ],
      "source": [
        "\n",
        "# Get feature importances\n",
        "importances = rf_classifier.feature_importances_\n",
        "\n",
        "# Create a list of feature names\n",
        "feature_names = list(X_train.columns)\n",
        "\n",
        "# Sort feature importances and corresponding feature names in descending order\n",
        "feature_importances = sorted(zip(importances, feature_names), reverse=True)\n",
        "\n",
        "# Print feature importance rankings\n",
        "print(\"Feature Importance Rankings:\")\n",
        "for i, (importance, feature) in enumerate(feature_importances):\n",
        "    print(f\"{i + 1}. {feature}: {importance}\")\n"
      ]
    },
    {
      "cell_type": "code",
      "execution_count": 25,
      "metadata": {
        "colab": {
          "base_uri": "https://localhost:8080/",
          "height": 564
        },
        "id": "jKQOrmemRLgs",
        "outputId": "0afed01a-cdb0-4ec6-81b4-dbf9ffdf9169"
      },
      "outputs": [
        {
          "output_type": "display_data",
          "data": {
            "text/plain": [
              "<Figure size 1000x600 with 1 Axes>"
            ],
            "image/png": "[encoded data removed]"
          },
          "metadata": {}
        }
      ],
      "source": [
        "# Extract feature names and importances separately\n",
        "importance_values = [importance for importance, _ in feature_importances]\n",
        "feature_names_sorted = [feature for _, feature in feature_importances]\n",
        "\n",
        "# Plot the feature importances\n",
        "plt.figure(figsize=(10, 6))\n",
        "plt.barh(range(len(feature_names_sorted)), importance_values, align='center')\n",
        "plt.yticks(range(len(feature_names_sorted)), feature_names_sorted)\n",
        "plt.xlabel('Feature Importance')\n",
        "plt.ylabel('Feature')\n",
        "plt.title('Feature Importance Rankings')\n",
        "plt.show()\n"
      ]
    },
    {
      "cell_type": "markdown",
      "metadata": {
        "id": "biYul62fwpmH"
      },
      "source": [
        "# Final Observations"
      ]
    },
    {
      "cell_type": "markdown",
      "metadata": {
        "id": "KGw-Tr3wwpmH"
      },
      "source": [
        "Among both the Models Random Forest is clearly producing better results but there is still scope for further improvement.\n",
        "\n",
        "\n",
        "\n",
        "### What are the key factors that predict fraudulent customers?\n",
        "Key factors that can predict fraudulent customers include the type of transaction, the new and old balances of destination accounts, and the type of account that the money is transferred into.\n",
        "\n",
        "### Do these factors make sense? If yes, how? If not, why not?\n",
        "Yes, these factors make sense in the context of fraud detection. The type of transaction is important because different types of transactions may have different levels of risk associated with them. For example, certain transaction types, such as transfers or cash-outs, may be more commonly associated with fraudulent activities.\n",
        "\n",
        "The new and old balances of destination accounts are relevant because sudden changes or discrepancies in these balances could indicate potential fraudulent behavior. Unusual or abnormal balances in destination accounts after a transaction may suggest fraudulent activity.\n",
        "\n",
        "The type of account that the money is transferred into is also important to consider. Some account types may be more prone to fraudulent activities, while others may be less likely to be involved in fraudulent transactions.\n",
        "\n",
        "### What kind of prevention should be adopted while the company updates its infrastructure?\n",
        "When updating its infrastructure, the company should consider implementing several prevention measures to enhance fraud detection. These measures include advanced anomaly detection using machine learning and statistical techniques, real-time monitoring systems for prompt detection and response to suspicious activities, user behavior analysis to identify potential fraudulent activities, stronger authentication mechanisms like two-factor authentication, data encryption to protect sensitive information, regular employee training on fraud prevention and detection, and conducting regular audits to assess effectiveness and identify vulnerabilities. These actions collectively aim to improve fraud detection and prevention capabilities as part of the infrastructure update.\n",
        "\n",
        "### Assuming these actions have been implemented, how would you determine if they work?\n",
        "To determine the effectiveness of the implemented actions, you can consider the following approaches:\n",
        "\n",
        "Monitoring metrics: Track key performance indicators (KPIs) related to fraud detection and prevention, such as the number of detected fraud cases, false positive rates, detection speed, and resolution time. Monitor these metrics over time to assess any improvements or changes.\n",
        "\n",
        "Historical comparison: Compare the fraud detection rates and patterns before and after the implementation of prevention measures. If there is a noticeable decrease in fraudulent activities or faster detection times, it suggests that the actions are effective.\n",
        "\n",
        "Expert analysis: Involve fraud detection experts or data scientists who can analyze the outcomes of the prevention measures and provide insights on their effectiveness.\n",
        "\n",
        "Feedback from stakeholders: Gather feedback from relevant stakeholders, including customers, employees, and security teams, to assess their perception of the effectiveness of the implemented actions.\n",
        "\n",
        "Benchmarking: Compare the company's fraud detection and prevention metrics against industry standards or best practices to evaluate the level of effectiveness."
      ]
    }
  ],
  "metadata": {
    "colab": {
      "provenance": []
    },
    "kernelspec": {
      "display_name": "Python 3 (ipykernel)",
      "language": "python",
      "name": "python3"
    },
    "language_info": {
      "codemirror_mode": {
        "name": "ipython",
        "version": 3
      },
      "file_extension": ".py",
      "mimetype": "text/x-python",
      "name": "python",
      "nbconvert_exporter": "python",
      "pygments_lexer": "ipython3",
      "version": "3.9.12"
    }
  },
  "nbformat": 4,
  "nbformat_minor": 0
}